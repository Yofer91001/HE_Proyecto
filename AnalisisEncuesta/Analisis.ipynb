{
 "cells": [
  {
   "cell_type": "code",
   "execution_count": 33,
   "id": "d6b9555f-3f9b-425f-a148-16be4b4642f5",
   "metadata": {},
   "outputs": [],
   "source": [
    "import pandas as pd\n",
    "import numpy as np\n",
    "from scipy.stats import shapiro, levene, ttest_ind, mannwhitneyu, ttest_rel, wilcoxon, f_oneway, kruskal\n",
    "import matplotlib.pyplot as plt\n",
    "import seaborn as sns"
   ]
  },
  {
   "cell_type": "code",
   "execution_count": 34,
   "id": "b20a9103-975b-41ca-9ede-045d45156ba5",
   "metadata": {},
   "outputs": [],
   "source": [
    "df = pd.read_excel('data.xlsx')"
   ]
  },
  {
   "cell_type": "code",
   "execution_count": 35,
   "id": "7465a615-a0db-4732-87d5-96c391bba05d",
   "metadata": {},
   "outputs": [],
   "source": [
    "def test_normalidad(group):\n",
    "    stat, p = shapiro(group)\n",
    "    return p > 0.05\n",
    "\n",
    "def test_homogeneidad(g1, g2):\n",
    "    stat, p = levene(g1, g2)\n",
    "    return p > 0.05"
   ]
  },
  {
   "cell_type": "code",
   "execution_count": 36,
   "id": "4d1b966a-ac8e-4192-af06-6ea781e6b291",
   "metadata": {},
   "outputs": [],
   "source": [
    "indep = df[df['actividad'] == 'independiente']\n",
    "emple = df[df['actividad'] == 'empleado']\n",
    "\n",
    "cols_grupo = ['Ventas', 'ventas_post', 'personas', 'personas_post', 'locales', 'residenciales', 'tiempo', 'tiempo_post']"
   ]
  },
  {
   "cell_type": "code",
   "execution_count": 37,
   "id": "61016a06-5b39-45d7-9f9d-3eb86f89b9d8",
   "metadata": {},
   "outputs": [
    {
     "name": "stdout",
     "output_type": "stream",
     "text": [
      "[U-Mann Whitney] Ventas: p = 0.9365 u_1 = 25.833333333333332 u_2 = 27.0\n",
      "No hay diferencia significativa en 'Ventas' entre grupos (p ≥ 0.05)\n",
      "\n",
      "[U-Mann Whitney] ventas_post: p = 0.2680 u_1 = 31.666666666666668 u_2 = 39.666666666666664\n",
      "No hay diferencia significativa en 'ventas_post' entre grupos (p ≥ 0.05)\n",
      "\n",
      "[T-test] personas: p = 0.0000 u_1 = -10.0 u_2 = -38.0\n",
      "Hay diferencia significativa en 'personas' entre grupos (p < 0.05)\n",
      "\n",
      "[U-Mann Whitney] personas_post: p = 0.0005 u_1 = 16.666666666666668 u_2 = 51.333333333333336\n",
      "Hay diferencia significativa en 'personas_post' entre grupos (p < 0.05)\n",
      "\n",
      "[U-Mann Whitney] locales: p = 0.2697 u_1 = 15.0 u_2 = 24.0\n",
      "No hay diferencia significativa en 'locales' entre grupos (p ≥ 0.05)\n",
      "\n",
      "[U-Mann Whitney] residenciales: p = 0.0005 u_1 = 22.5 u_2 = 50.666666666666664\n",
      "Hay diferencia significativa en 'residenciales' entre grupos (p < 0.05)\n",
      "\n",
      "[U-Mann Whitney] tiempo: p = 0.4924 u_1 = 15.0 u_2 = 13.0\n",
      "No hay diferencia significativa en 'tiempo' entre grupos (p ≥ 0.05)\n",
      "\n",
      "[U-Mann Whitney] tiempo_post: p = 0.0118 u_1 = -19.166666666666668 u_2 = -28.333333333333332\n",
      "Hay diferencia significativa en 'tiempo_post' entre grupos (p < 0.05)\n",
      "\n"
     ]
    }
   ],
   "source": [
    "cols_grupo = ['Ventas', 'ventas_post', 'personas', 'personas_post', 'locales', 'residenciales', 'tiempo', 'tiempo_post']\n",
    "\n",
    "for col in cols_grupo:\n",
    "    g1 = indep[col].dropna()\n",
    "    g2 = emple[col].dropna()\n",
    "\n",
    "    norm1 = test_normalidad(g1)\n",
    "    norm2 = test_normalidad(g2)\n",
    "    norm = norm1 and norm2\n",
    "\n",
    "    equal_var = test_homogeneidad(g1, g2)\n",
    "\n",
    "    if norm:\n",
    "        if equal_var:\n",
    "            stat, p = ttest_ind(g1, g2)\n",
    "            print(f\"[T-test] {col}: p = {p:.4f} u_1 = {g1.mean()} u_2 = {g2.mean()}\")\n",
    "        else:\n",
    "            stat, p = ttest_ind(g1, g2, equal_var=False)\n",
    "            print(f\"[T-test Welch] {col}: p = {p:.4f} u_1 = {g1.mean()} u_2 = {g2.mean()}\")\n",
    "    else:\n",
    "        stat, p = mannwhitneyu(g1, g2)\n",
    "        print(f\"[U-Mann Whitney] {col}: p = {p:.4f} u_1 = {g1.mean()} u_2 = {g2.mean()}\")\n",
    "\n",
    "    if p < 0.05:\n",
    "        print(f\"Hay diferencia significativa en '{col}' entre grupos (p < 0.05)\\n\")\n",
    "    else:\n",
    "        print(f\"No hay diferencia significativa en '{col}' entre grupos (p ≥ 0.05)\\n\")"
   ]
  },
  {
   "cell_type": "code",
   "execution_count": 30,
   "id": "777def58-0fc2-4d0e-be35-148be9a6a067",
   "metadata": {},
   "outputs": [
    {
     "name": "stdout",
     "output_type": "stream",
     "text": [
      "[Wilcoxon] Ventas vs ventas_post: p = 0.0201\n",
      "Hay diferencia significativa entre 'Ventas' y 'ventas_post' (p < 0.05)\n",
      "\n",
      "[Paired T-test] personas vs personas_post: p = 0.0000\n",
      "Hay diferencia significativa entre 'personas' y 'personas_post' (p < 0.05)\n",
      "\n"
     ]
    }
   ],
   "source": [
    "paired_cols = [('Ventas', 'ventas_post'), ('personas', 'personas_post')]\n",
    "\n",
    "for pre, post in paired_cols:\n",
    "    norm_pre = test_normalidad(df[pre])\n",
    "    norm_post = test_normalidad(df[post])\n",
    "    norm = norm_pre and norm_post\n",
    "\n",
    "    if norm:\n",
    "        stat, p = ttest_rel(df[pre], df[post])\n",
    "        print(f\"[Paired T-test] {pre} vs {post}: p = {p:.4f}\")\n",
    "    else:\n",
    "        stat, p = wilcoxon(df[pre], df[post])\n",
    "        print(f\"[Wilcoxon] {pre} vs {post}: p = {p:.4f}\")\n",
    "\n",
    "    if p < 0.05:\n",
    "        print(f\"Hay diferencia significativa entre '{pre}' y '{post}' (p < 0.05)\\n\")\n",
    "    else:\n",
    "        print(f\"No hay diferencia significativa entre '{pre}' y '{post}' (p ≥ 0.05)\\n\")"
   ]
  },
  {
   "cell_type": "code",
   "execution_count": 31,
   "id": "0403a081-8efc-4556-b0b7-8a76cd7ee3f7",
   "metadata": {},
   "outputs": [
    {
     "name": "stdout",
     "output_type": "stream",
     "text": [
      "[U-Mann Whitney] Cambio en Ventas: p = 0.2721\n",
      "No hay diferencia significativa en el cambio de ventas entre grupos (p ≥ 0.05)\n"
     ]
    }
   ],
   "source": [
    "df['ventas_diff'] = df['ventas_post'] - df['Ventas']\n",
    "\n",
    "g1 = df[df['actividad'] == 'independiente']['ventas_diff'].dropna()\n",
    "g2 = df[df['actividad'] == 'empleado']['ventas_diff'].dropna()\n",
    "\n",
    "norm1 = test_normalidad(g1)\n",
    "norm2 = test_normalidad(g2)\n",
    "norm = norm1 and norm2\n",
    "\n",
    "equal_var = test_homogeneidad(g1, g2)\n",
    "\n",
    "if norm:\n",
    "    if equal_var:\n",
    "        stat, p = ttest_ind(g1, g2)\n",
    "        print(f\"[T-test] Cambio en Ventas: p = {p:.4f}\")\n",
    "    else:\n",
    "        stat, p = ttest_ind(g1, g2, equal_var=False)\n",
    "        print(f\"[T-test Welch] Cambio en Ventas: p = {p:.4f}\")\n",
    "else:\n",
    "    stat, p = mannwhitneyu(g1, g2)\n",
    "    print(f\"[U-Mann Whitney] Cambio en Ventas: p = {p:.4f}\")\n",
    "\n",
    "if p < 0.05:\n",
    "    print(f\"Hay diferencia significativa en el cambio de ventas entre grupos (p < 0.05)\")\n",
    "else:\n",
    "    print(f\"No hay diferencia significativa en el cambio de ventas entre grupos (p ≥ 0.05)\")"
   ]
  },
  {
   "cell_type": "code",
   "execution_count": 32,
   "id": "ee069c1a-fa64-42b2-bc3e-930017d96a2a",
   "metadata": {},
   "outputs": [
    {
     "name": "stdout",
     "output_type": "stream",
     "text": [
      "[Wilcoxon Signed-Rank] Valor p = 0.0000\n",
      "Hay evidencia suficiente para afirmar que el tiempo disminuyó (diff_tiempo < 0).\n"
     ]
    }
   ],
   "source": [
    "diff_time = df['diff_tiempo']\n",
    "\n",
    "# Test de normalidad\n",
    "stat, p_normal = shapiro(diff_time)\n",
    "normal = p_normal > 0.05\n",
    "\n",
    "if normal:\n",
    "    stat, p = ttest_1samp(diff_time, popmean=0)\n",
    "    print(f\"[T-test de una muestra] Valor p = {p:.4f}\")\n",
    "else:\n",
    "    diff_time_non_zero = diff_time[diff_time != 0]\n",
    "    stat, p = wilcoxon(diff_time_non_zero)\n",
    "    print(f\"[Wilcoxon Signed-Rank] Valor p = {p:.4f}\")\n",
    "\n",
    "if p < 0.05:\n",
    "    print(\"Hay evidencia suficiente para afirmar que el tiempo disminuyó (diff_tiempo < 0).\")\n",
    "else:\n",
    "    print(\"No hay suficiente evidencia para afirmar que el tiempo disminuyó.\")"
   ]
  }
 ],
 "metadata": {
  "kernelspec": {
   "display_name": "Python 3 (ipykernel)",
   "language": "python",
   "name": "python3"
  },
  "language_info": {
   "codemirror_mode": {
    "name": "ipython",
    "version": 3
   },
   "file_extension": ".py",
   "mimetype": "text/x-python",
   "name": "python",
   "nbconvert_exporter": "python",
   "pygments_lexer": "ipython3",
   "version": "3.13.0"
  }
 },
 "nbformat": 4,
 "nbformat_minor": 5
}
